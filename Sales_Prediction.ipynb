{
 "cells": [
  {
   "cell_type": "code",
   "execution_count": 2,
   "id": "a8933fd1",
   "metadata": {},
   "outputs": [],
   "source": [
    "import pandas as pd\n",
    "import numpy as np\n",
    "import matplotlib.pyplot as plt\n",
    "%matplotlib inline"
   ]
  },
  {
   "cell_type": "code",
   "execution_count": 3,
   "id": "415085d6",
   "metadata": {},
   "outputs": [],
   "source": [
    "#importing test dataset\n",
    "test=pd.read_csv('TEST_FINAL.csv')"
   ]
  },
  {
   "cell_type": "code",
   "execution_count": 4,
   "id": "3ec27896",
   "metadata": {},
   "outputs": [],
   "source": [
    "#importing test dataset\n",
    "train=pd.read_csv('TRAIN.csv')"
   ]
  },
  {
   "cell_type": "code",
   "execution_count": 5,
   "id": "d139519a",
   "metadata": {},
   "outputs": [
    {
     "data": {
      "text/plain": [
       "Index(['ID', 'Store_id', 'Store_Type', 'Location_Type', 'Region_Code', 'Date',\n",
       "       'Holiday', 'Discount', '#Order', 'Sales'],\n",
       "      dtype='object')"
      ]
     },
     "execution_count": 5,
     "metadata": {},
     "output_type": "execute_result"
    }
   ],
   "source": [
    "train.columns"
   ]
  },
  {
   "cell_type": "code",
   "execution_count": 6,
   "id": "0867e650",
   "metadata": {},
   "outputs": [
    {
     "data": {
      "text/plain": [
       "Index(['ID', 'Store_id', 'Store_Type', 'Location_Type', 'Region_Code', 'Date',\n",
       "       'Holiday', 'Discount'],\n",
       "      dtype='object')"
      ]
     },
     "execution_count": 6,
     "metadata": {},
     "output_type": "execute_result"
    }
   ],
   "source": [
    "test.columns"
   ]
  },
  {
   "cell_type": "code",
   "execution_count": 7,
   "id": "9d65b8ca",
   "metadata": {},
   "outputs": [
    {
     "data": {
      "text/html": [
       "<div>\n",
       "<style scoped>\n",
       "    .dataframe tbody tr th:only-of-type {\n",
       "        vertical-align: middle;\n",
       "    }\n",
       "\n",
       "    .dataframe tbody tr th {\n",
       "        vertical-align: top;\n",
       "    }\n",
       "\n",
       "    .dataframe thead th {\n",
       "        text-align: right;\n",
       "    }\n",
       "</style>\n",
       "<table border=\"1\" class=\"dataframe\">\n",
       "  <thead>\n",
       "    <tr style=\"text-align: right;\">\n",
       "      <th></th>\n",
       "      <th>ID</th>\n",
       "      <th>Store_id</th>\n",
       "      <th>Store_Type</th>\n",
       "      <th>Location_Type</th>\n",
       "      <th>Region_Code</th>\n",
       "      <th>Date</th>\n",
       "      <th>Holiday</th>\n",
       "      <th>Discount</th>\n",
       "      <th>#Order</th>\n",
       "      <th>Sales</th>\n",
       "    </tr>\n",
       "  </thead>\n",
       "  <tbody>\n",
       "    <tr>\n",
       "      <th>0</th>\n",
       "      <td>T1000001</td>\n",
       "      <td>1</td>\n",
       "      <td>S1</td>\n",
       "      <td>L3</td>\n",
       "      <td>R1</td>\n",
       "      <td>2018-01-01</td>\n",
       "      <td>1</td>\n",
       "      <td>Yes</td>\n",
       "      <td>9</td>\n",
       "      <td>7011.84</td>\n",
       "    </tr>\n",
       "    <tr>\n",
       "      <th>1</th>\n",
       "      <td>T1000002</td>\n",
       "      <td>253</td>\n",
       "      <td>S4</td>\n",
       "      <td>L2</td>\n",
       "      <td>R1</td>\n",
       "      <td>2018-01-01</td>\n",
       "      <td>1</td>\n",
       "      <td>Yes</td>\n",
       "      <td>60</td>\n",
       "      <td>51789.12</td>\n",
       "    </tr>\n",
       "    <tr>\n",
       "      <th>2</th>\n",
       "      <td>T1000003</td>\n",
       "      <td>252</td>\n",
       "      <td>S3</td>\n",
       "      <td>L2</td>\n",
       "      <td>R1</td>\n",
       "      <td>2018-01-01</td>\n",
       "      <td>1</td>\n",
       "      <td>Yes</td>\n",
       "      <td>42</td>\n",
       "      <td>36868.20</td>\n",
       "    </tr>\n",
       "    <tr>\n",
       "      <th>3</th>\n",
       "      <td>T1000004</td>\n",
       "      <td>251</td>\n",
       "      <td>S2</td>\n",
       "      <td>L3</td>\n",
       "      <td>R1</td>\n",
       "      <td>2018-01-01</td>\n",
       "      <td>1</td>\n",
       "      <td>Yes</td>\n",
       "      <td>23</td>\n",
       "      <td>19715.16</td>\n",
       "    </tr>\n",
       "    <tr>\n",
       "      <th>4</th>\n",
       "      <td>T1000005</td>\n",
       "      <td>250</td>\n",
       "      <td>S2</td>\n",
       "      <td>L3</td>\n",
       "      <td>R4</td>\n",
       "      <td>2018-01-01</td>\n",
       "      <td>1</td>\n",
       "      <td>Yes</td>\n",
       "      <td>62</td>\n",
       "      <td>45614.52</td>\n",
       "    </tr>\n",
       "  </tbody>\n",
       "</table>\n",
       "</div>"
      ],
      "text/plain": [
       "         ID  Store_id Store_Type Location_Type Region_Code        Date  \\\n",
       "0  T1000001         1         S1            L3          R1  2018-01-01   \n",
       "1  T1000002       253         S4            L2          R1  2018-01-01   \n",
       "2  T1000003       252         S3            L2          R1  2018-01-01   \n",
       "3  T1000004       251         S2            L3          R1  2018-01-01   \n",
       "4  T1000005       250         S2            L3          R4  2018-01-01   \n",
       "\n",
       "   Holiday Discount  #Order     Sales  \n",
       "0        1      Yes       9   7011.84  \n",
       "1        1      Yes      60  51789.12  \n",
       "2        1      Yes      42  36868.20  \n",
       "3        1      Yes      23  19715.16  \n",
       "4        1      Yes      62  45614.52  "
      ]
     },
     "execution_count": 7,
     "metadata": {},
     "output_type": "execute_result"
    }
   ],
   "source": [
    "train.head()"
   ]
  },
  {
   "cell_type": "code",
   "execution_count": 8,
   "id": "6e24adac",
   "metadata": {},
   "outputs": [
    {
     "data": {
      "text/html": [
       "<div>\n",
       "<style scoped>\n",
       "    .dataframe tbody tr th:only-of-type {\n",
       "        vertical-align: middle;\n",
       "    }\n",
       "\n",
       "    .dataframe tbody tr th {\n",
       "        vertical-align: top;\n",
       "    }\n",
       "\n",
       "    .dataframe thead th {\n",
       "        text-align: right;\n",
       "    }\n",
       "</style>\n",
       "<table border=\"1\" class=\"dataframe\">\n",
       "  <thead>\n",
       "    <tr style=\"text-align: right;\">\n",
       "      <th></th>\n",
       "      <th>ID</th>\n",
       "      <th>Store_id</th>\n",
       "      <th>Store_Type</th>\n",
       "      <th>Location_Type</th>\n",
       "      <th>Region_Code</th>\n",
       "      <th>Date</th>\n",
       "      <th>Holiday</th>\n",
       "      <th>Discount</th>\n",
       "      <th>#Order</th>\n",
       "      <th>Sales</th>\n",
       "    </tr>\n",
       "  </thead>\n",
       "  <tbody>\n",
       "    <tr>\n",
       "      <th>188335</th>\n",
       "      <td>T1188336</td>\n",
       "      <td>149</td>\n",
       "      <td>S2</td>\n",
       "      <td>L3</td>\n",
       "      <td>R2</td>\n",
       "      <td>2019-05-31</td>\n",
       "      <td>1</td>\n",
       "      <td>Yes</td>\n",
       "      <td>51</td>\n",
       "      <td>37272.00</td>\n",
       "    </tr>\n",
       "    <tr>\n",
       "      <th>188336</th>\n",
       "      <td>T1188337</td>\n",
       "      <td>153</td>\n",
       "      <td>S4</td>\n",
       "      <td>L2</td>\n",
       "      <td>R1</td>\n",
       "      <td>2019-05-31</td>\n",
       "      <td>1</td>\n",
       "      <td>No</td>\n",
       "      <td>90</td>\n",
       "      <td>54572.64</td>\n",
       "    </tr>\n",
       "    <tr>\n",
       "      <th>188337</th>\n",
       "      <td>T1188338</td>\n",
       "      <td>154</td>\n",
       "      <td>S1</td>\n",
       "      <td>L3</td>\n",
       "      <td>R2</td>\n",
       "      <td>2019-05-31</td>\n",
       "      <td>1</td>\n",
       "      <td>No</td>\n",
       "      <td>56</td>\n",
       "      <td>31624.56</td>\n",
       "    </tr>\n",
       "    <tr>\n",
       "      <th>188338</th>\n",
       "      <td>T1188339</td>\n",
       "      <td>155</td>\n",
       "      <td>S3</td>\n",
       "      <td>L1</td>\n",
       "      <td>R2</td>\n",
       "      <td>2019-05-31</td>\n",
       "      <td>1</td>\n",
       "      <td>Yes</td>\n",
       "      <td>70</td>\n",
       "      <td>49162.41</td>\n",
       "    </tr>\n",
       "    <tr>\n",
       "      <th>188339</th>\n",
       "      <td>T1188340</td>\n",
       "      <td>152</td>\n",
       "      <td>S2</td>\n",
       "      <td>L1</td>\n",
       "      <td>R1</td>\n",
       "      <td>2019-05-31</td>\n",
       "      <td>1</td>\n",
       "      <td>No</td>\n",
       "      <td>47</td>\n",
       "      <td>37977.00</td>\n",
       "    </tr>\n",
       "  </tbody>\n",
       "</table>\n",
       "</div>"
      ],
      "text/plain": [
       "              ID  Store_id Store_Type Location_Type Region_Code        Date  \\\n",
       "188335  T1188336       149         S2            L3          R2  2019-05-31   \n",
       "188336  T1188337       153         S4            L2          R1  2019-05-31   \n",
       "188337  T1188338       154         S1            L3          R2  2019-05-31   \n",
       "188338  T1188339       155         S3            L1          R2  2019-05-31   \n",
       "188339  T1188340       152         S2            L1          R1  2019-05-31   \n",
       "\n",
       "        Holiday Discount  #Order     Sales  \n",
       "188335        1      Yes      51  37272.00  \n",
       "188336        1       No      90  54572.64  \n",
       "188337        1       No      56  31624.56  \n",
       "188338        1      Yes      70  49162.41  \n",
       "188339        1       No      47  37977.00  "
      ]
     },
     "execution_count": 8,
     "metadata": {},
     "output_type": "execute_result"
    }
   ],
   "source": [
    "train.tail()"
   ]
  },
  {
   "cell_type": "code",
   "execution_count": 9,
   "id": "d07e9642",
   "metadata": {},
   "outputs": [],
   "source": [
    "#adding #order column to test\n",
    "test['#Order']='test'"
   ]
  },
  {
   "cell_type": "code",
   "execution_count": 10,
   "id": "1fb13c83",
   "metadata": {},
   "outputs": [],
   "source": [
    "#adding sales column to test\n",
    "test['Sales']='test'"
   ]
  },
  {
   "cell_type": "code",
   "execution_count": 11,
   "id": "a97056ef",
   "metadata": {},
   "outputs": [
    {
     "data": {
      "text/plain": [
       "(22265, 10)"
      ]
     },
     "execution_count": 11,
     "metadata": {},
     "output_type": "execute_result"
    }
   ],
   "source": [
    "test.shape"
   ]
  },
  {
   "cell_type": "code",
   "execution_count": 12,
   "id": "21c1118b",
   "metadata": {},
   "outputs": [
    {
     "data": {
      "text/plain": [
       "(188340, 10)"
      ]
     },
     "execution_count": 12,
     "metadata": {},
     "output_type": "execute_result"
    }
   ],
   "source": [
    "train.shape"
   ]
  },
  {
   "cell_type": "code",
   "execution_count": 13,
   "id": "b72a86da",
   "metadata": {},
   "outputs": [],
   "source": [
    "#combining test and train dataset\n",
    "df=pd.concat([test,train],axis=0)"
   ]
  },
  {
   "cell_type": "code",
   "execution_count": 14,
   "id": "d40d40ef",
   "metadata": {},
   "outputs": [
    {
     "data": {
      "text/html": [
       "<div>\n",
       "<style scoped>\n",
       "    .dataframe tbody tr th:only-of-type {\n",
       "        vertical-align: middle;\n",
       "    }\n",
       "\n",
       "    .dataframe tbody tr th {\n",
       "        vertical-align: top;\n",
       "    }\n",
       "\n",
       "    .dataframe thead th {\n",
       "        text-align: right;\n",
       "    }\n",
       "</style>\n",
       "<table border=\"1\" class=\"dataframe\">\n",
       "  <thead>\n",
       "    <tr style=\"text-align: right;\">\n",
       "      <th></th>\n",
       "      <th>ID</th>\n",
       "      <th>Store_id</th>\n",
       "      <th>Store_Type</th>\n",
       "      <th>Location_Type</th>\n",
       "      <th>Region_Code</th>\n",
       "      <th>Date</th>\n",
       "      <th>Holiday</th>\n",
       "      <th>Discount</th>\n",
       "      <th>#Order</th>\n",
       "      <th>Sales</th>\n",
       "    </tr>\n",
       "  </thead>\n",
       "  <tbody>\n",
       "    <tr>\n",
       "      <th>0</th>\n",
       "      <td>T1188341</td>\n",
       "      <td>171</td>\n",
       "      <td>S4</td>\n",
       "      <td>L2</td>\n",
       "      <td>R3</td>\n",
       "      <td>2019-06-01</td>\n",
       "      <td>0</td>\n",
       "      <td>No</td>\n",
       "      <td>test</td>\n",
       "      <td>test</td>\n",
       "    </tr>\n",
       "    <tr>\n",
       "      <th>1</th>\n",
       "      <td>T1188342</td>\n",
       "      <td>172</td>\n",
       "      <td>S1</td>\n",
       "      <td>L1</td>\n",
       "      <td>R1</td>\n",
       "      <td>2019-06-01</td>\n",
       "      <td>0</td>\n",
       "      <td>No</td>\n",
       "      <td>test</td>\n",
       "      <td>test</td>\n",
       "    </tr>\n",
       "    <tr>\n",
       "      <th>2</th>\n",
       "      <td>T1188343</td>\n",
       "      <td>173</td>\n",
       "      <td>S4</td>\n",
       "      <td>L2</td>\n",
       "      <td>R1</td>\n",
       "      <td>2019-06-01</td>\n",
       "      <td>0</td>\n",
       "      <td>No</td>\n",
       "      <td>test</td>\n",
       "      <td>test</td>\n",
       "    </tr>\n",
       "    <tr>\n",
       "      <th>3</th>\n",
       "      <td>T1188344</td>\n",
       "      <td>174</td>\n",
       "      <td>S1</td>\n",
       "      <td>L1</td>\n",
       "      <td>R4</td>\n",
       "      <td>2019-06-01</td>\n",
       "      <td>0</td>\n",
       "      <td>No</td>\n",
       "      <td>test</td>\n",
       "      <td>test</td>\n",
       "    </tr>\n",
       "    <tr>\n",
       "      <th>4</th>\n",
       "      <td>T1188345</td>\n",
       "      <td>170</td>\n",
       "      <td>S1</td>\n",
       "      <td>L1</td>\n",
       "      <td>R2</td>\n",
       "      <td>2019-06-01</td>\n",
       "      <td>0</td>\n",
       "      <td>No</td>\n",
       "      <td>test</td>\n",
       "      <td>test</td>\n",
       "    </tr>\n",
       "  </tbody>\n",
       "</table>\n",
       "</div>"
      ],
      "text/plain": [
       "         ID  Store_id Store_Type Location_Type Region_Code        Date  \\\n",
       "0  T1188341       171         S4            L2          R3  2019-06-01   \n",
       "1  T1188342       172         S1            L1          R1  2019-06-01   \n",
       "2  T1188343       173         S4            L2          R1  2019-06-01   \n",
       "3  T1188344       174         S1            L1          R4  2019-06-01   \n",
       "4  T1188345       170         S1            L1          R2  2019-06-01   \n",
       "\n",
       "   Holiday Discount #Order Sales  \n",
       "0        0       No   test  test  \n",
       "1        0       No   test  test  \n",
       "2        0       No   test  test  \n",
       "3        0       No   test  test  \n",
       "4        0       No   test  test  "
      ]
     },
     "execution_count": 14,
     "metadata": {},
     "output_type": "execute_result"
    }
   ],
   "source": [
    "df.head()"
   ]
  },
  {
   "cell_type": "code",
   "execution_count": 15,
   "id": "d723f8d9",
   "metadata": {},
   "outputs": [],
   "source": [
    "#extracting year from  date\n",
    "year=df['Date'].apply(lambda x:x[0:4])"
   ]
  },
  {
   "cell_type": "code",
   "execution_count": 16,
   "id": "2209b93c",
   "metadata": {},
   "outputs": [],
   "source": [
    "#extracting month from  date\n",
    "month=df['Date'].apply(lambda x:x[5:7])"
   ]
  },
  {
   "cell_type": "code",
   "execution_count": 17,
   "id": "4ae3c12e",
   "metadata": {},
   "outputs": [],
   "source": [
    "#extracting date from  date\n",
    "date=df['Date'].apply(lambda x:x[8:10])"
   ]
  },
  {
   "cell_type": "code",
   "execution_count": 18,
   "id": "aa9a4741",
   "metadata": {},
   "outputs": [],
   "source": [
    "#adding year column to df\n",
    "df['year']=year"
   ]
  },
  {
   "cell_type": "code",
   "execution_count": 19,
   "id": "a579c761",
   "metadata": {},
   "outputs": [],
   "source": [
    "#adding month column to df\n",
    "df['month']=month"
   ]
  },
  {
   "cell_type": "code",
   "execution_count": 20,
   "id": "bec7741e",
   "metadata": {},
   "outputs": [],
   "source": [
    "#adding date column to df\n",
    "df['date']=date"
   ]
  },
  {
   "cell_type": "code",
   "execution_count": 21,
   "id": "65b1ede4",
   "metadata": {},
   "outputs": [],
   "source": [
    "#dropping date column\n",
    "df=df.drop('Date',axis=1)"
   ]
  },
  {
   "cell_type": "code",
   "execution_count": 22,
   "id": "d1d18830",
   "metadata": {},
   "outputs": [
    {
     "data": {
      "text/plain": [
       "(210605, 12)"
      ]
     },
     "execution_count": 22,
     "metadata": {},
     "output_type": "execute_result"
    }
   ],
   "source": [
    "df.shape"
   ]
  },
  {
   "cell_type": "code",
   "execution_count": 23,
   "id": "cbe7ef69",
   "metadata": {},
   "outputs": [
    {
     "data": {
      "text/plain": [
       "ID               0\n",
       "Store_id         0\n",
       "Store_Type       0\n",
       "Location_Type    0\n",
       "Region_Code      0\n",
       "Holiday          0\n",
       "Discount         0\n",
       "#Order           0\n",
       "Sales            0\n",
       "year             0\n",
       "month            0\n",
       "date             0\n",
       "dtype: int64"
      ]
     },
     "execution_count": 23,
     "metadata": {},
     "output_type": "execute_result"
    }
   ],
   "source": [
    "#checking null values\n",
    "df.isnull().sum().sort_values(ascending=True)"
   ]
  },
  {
   "cell_type": "code",
   "execution_count": 24,
   "id": "79e195a4",
   "metadata": {},
   "outputs": [
    {
     "data": {
      "text/plain": [
       "ID               object\n",
       "Store_id          int64\n",
       "Store_Type       object\n",
       "Location_Type    object\n",
       "Region_Code      object\n",
       "Holiday           int64\n",
       "Discount         object\n",
       "#Order           object\n",
       "Sales            object\n",
       "year             object\n",
       "month            object\n",
       "date             object\n",
       "dtype: object"
      ]
     },
     "execution_count": 24,
     "metadata": {},
     "output_type": "execute_result"
    }
   ],
   "source": [
    "#datatypes\n",
    "df.dtypes"
   ]
  },
  {
   "cell_type": "code",
   "execution_count": 25,
   "id": "973a4f24",
   "metadata": {},
   "outputs": [],
   "source": [
    "#dividing the data into object and numeric\n",
    "obj=df.select_dtypes(include=['object'])\n",
    "num=df.select_dtypes(include=np.number)"
   ]
  },
  {
   "cell_type": "code",
   "execution_count": 26,
   "id": "cab7b138",
   "metadata": {},
   "outputs": [
    {
     "name": "stdout",
     "output_type": "stream",
     "text": [
      "(210605, 10)\n",
      "(210605, 2)\n"
     ]
    }
   ],
   "source": [
    "#shape of object and numeric\n",
    "print(obj.shape)\n",
    "print(num.shape)"
   ]
  },
  {
   "cell_type": "code",
   "execution_count": 27,
   "id": "60b9388c",
   "metadata": {},
   "outputs": [],
   "source": [
    "#dividing the categorical data from numeric and converting into dataframe\n",
    "cat=num['Holiday']\n",
    "cat=pd.DataFrame(cat,columns=['Holiday'])"
   ]
  },
  {
   "cell_type": "code",
   "execution_count": 28,
   "id": "0c7a395d",
   "metadata": {},
   "outputs": [],
   "source": [
    "#dropping holiday column from the num column\n",
    "num=num.drop('Holiday',axis=1)"
   ]
  },
  {
   "cell_type": "code",
   "execution_count": 29,
   "id": "c1d3d17a",
   "metadata": {},
   "outputs": [],
   "source": [
    "#adding sales column from obj to num\n",
    "num['Sales']=obj['Sales']"
   ]
  },
  {
   "cell_type": "code",
   "execution_count": 30,
   "id": "adde0cd8",
   "metadata": {},
   "outputs": [],
   "source": [
    "#adding order column from obj to num\n",
    "num['#Order']=obj['#Order']"
   ]
  },
  {
   "cell_type": "code",
   "execution_count": 31,
   "id": "1e974d68",
   "metadata": {},
   "outputs": [],
   "source": [
    "#dropping sales from obj\n",
    "obj=obj.drop('Sales',axis=1)"
   ]
  },
  {
   "cell_type": "code",
   "execution_count": 32,
   "id": "382ccab4",
   "metadata": {},
   "outputs": [],
   "source": [
    "#dropping #order from obj\n",
    "obj=obj.drop('#Order',axis=1)"
   ]
  },
  {
   "cell_type": "code",
   "execution_count": 33,
   "id": "ba44a4be",
   "metadata": {},
   "outputs": [],
   "source": [
    "#dropping ID from obj\n",
    "obj=obj.drop('ID',axis=1)"
   ]
  },
  {
   "cell_type": "code",
   "execution_count": 34,
   "id": "2767f176",
   "metadata": {},
   "outputs": [
    {
     "data": {
      "text/plain": [
       "Index(['Store_Type', 'Location_Type', 'Region_Code', 'Discount', 'year',\n",
       "       'month', 'date'],\n",
       "      dtype='object')"
      ]
     },
     "execution_count": 34,
     "metadata": {},
     "output_type": "execute_result"
    }
   ],
   "source": [
    "obj.columns"
   ]
  },
  {
   "cell_type": "code",
   "execution_count": 35,
   "id": "2fa34d26",
   "metadata": {},
   "outputs": [
    {
     "data": {
      "text/plain": [
       "Index(['Store_id', 'Sales', '#Order'], dtype='object')"
      ]
     },
     "execution_count": 35,
     "metadata": {},
     "output_type": "execute_result"
    }
   ],
   "source": [
    "num.columns"
   ]
  },
  {
   "cell_type": "code",
   "execution_count": 36,
   "id": "63467165",
   "metadata": {},
   "outputs": [],
   "source": [
    "#applying label encoder for cat data\n",
    "catdummy=pd.get_dummies(cat)"
   ]
  },
  {
   "cell_type": "code",
   "execution_count": 37,
   "id": "6a4c9397",
   "metadata": {},
   "outputs": [],
   "source": [
    "#applying label encoder for obj data\n",
    "objdummy=pd.get_dummies(obj)"
   ]
  },
  {
   "cell_type": "code",
   "execution_count": 38,
   "id": "690160f7",
   "metadata": {},
   "outputs": [],
   "source": [
    "#combining the obj,catdummy and num data\n",
    "cleandf=pd.concat([catdummy,num,objdummy],axis=1)"
   ]
  },
  {
   "cell_type": "code",
   "execution_count": 39,
   "id": "f4a84d23",
   "metadata": {},
   "outputs": [
    {
     "data": {
      "text/html": [
       "<div>\n",
       "<style scoped>\n",
       "    .dataframe tbody tr th:only-of-type {\n",
       "        vertical-align: middle;\n",
       "    }\n",
       "\n",
       "    .dataframe tbody tr th {\n",
       "        vertical-align: top;\n",
       "    }\n",
       "\n",
       "    .dataframe thead th {\n",
       "        text-align: right;\n",
       "    }\n",
       "</style>\n",
       "<table border=\"1\" class=\"dataframe\">\n",
       "  <thead>\n",
       "    <tr style=\"text-align: right;\">\n",
       "      <th></th>\n",
       "      <th>Holiday</th>\n",
       "      <th>Store_id</th>\n",
       "      <th>Sales</th>\n",
       "      <th>#Order</th>\n",
       "      <th>Store_Type_S1</th>\n",
       "      <th>Store_Type_S2</th>\n",
       "      <th>Store_Type_S3</th>\n",
       "      <th>Store_Type_S4</th>\n",
       "      <th>Location_Type_L1</th>\n",
       "      <th>Location_Type_L2</th>\n",
       "      <th>...</th>\n",
       "      <th>date_22</th>\n",
       "      <th>date_23</th>\n",
       "      <th>date_24</th>\n",
       "      <th>date_25</th>\n",
       "      <th>date_26</th>\n",
       "      <th>date_27</th>\n",
       "      <th>date_28</th>\n",
       "      <th>date_29</th>\n",
       "      <th>date_30</th>\n",
       "      <th>date_31</th>\n",
       "    </tr>\n",
       "  </thead>\n",
       "  <tbody>\n",
       "    <tr>\n",
       "      <th>0</th>\n",
       "      <td>0</td>\n",
       "      <td>171</td>\n",
       "      <td>test</td>\n",
       "      <td>test</td>\n",
       "      <td>0</td>\n",
       "      <td>0</td>\n",
       "      <td>0</td>\n",
       "      <td>1</td>\n",
       "      <td>0</td>\n",
       "      <td>1</td>\n",
       "      <td>...</td>\n",
       "      <td>0</td>\n",
       "      <td>0</td>\n",
       "      <td>0</td>\n",
       "      <td>0</td>\n",
       "      <td>0</td>\n",
       "      <td>0</td>\n",
       "      <td>0</td>\n",
       "      <td>0</td>\n",
       "      <td>0</td>\n",
       "      <td>0</td>\n",
       "    </tr>\n",
       "    <tr>\n",
       "      <th>1</th>\n",
       "      <td>0</td>\n",
       "      <td>172</td>\n",
       "      <td>test</td>\n",
       "      <td>test</td>\n",
       "      <td>1</td>\n",
       "      <td>0</td>\n",
       "      <td>0</td>\n",
       "      <td>0</td>\n",
       "      <td>1</td>\n",
       "      <td>0</td>\n",
       "      <td>...</td>\n",
       "      <td>0</td>\n",
       "      <td>0</td>\n",
       "      <td>0</td>\n",
       "      <td>0</td>\n",
       "      <td>0</td>\n",
       "      <td>0</td>\n",
       "      <td>0</td>\n",
       "      <td>0</td>\n",
       "      <td>0</td>\n",
       "      <td>0</td>\n",
       "    </tr>\n",
       "    <tr>\n",
       "      <th>2</th>\n",
       "      <td>0</td>\n",
       "      <td>173</td>\n",
       "      <td>test</td>\n",
       "      <td>test</td>\n",
       "      <td>0</td>\n",
       "      <td>0</td>\n",
       "      <td>0</td>\n",
       "      <td>1</td>\n",
       "      <td>0</td>\n",
       "      <td>1</td>\n",
       "      <td>...</td>\n",
       "      <td>0</td>\n",
       "      <td>0</td>\n",
       "      <td>0</td>\n",
       "      <td>0</td>\n",
       "      <td>0</td>\n",
       "      <td>0</td>\n",
       "      <td>0</td>\n",
       "      <td>0</td>\n",
       "      <td>0</td>\n",
       "      <td>0</td>\n",
       "    </tr>\n",
       "    <tr>\n",
       "      <th>3</th>\n",
       "      <td>0</td>\n",
       "      <td>174</td>\n",
       "      <td>test</td>\n",
       "      <td>test</td>\n",
       "      <td>1</td>\n",
       "      <td>0</td>\n",
       "      <td>0</td>\n",
       "      <td>0</td>\n",
       "      <td>1</td>\n",
       "      <td>0</td>\n",
       "      <td>...</td>\n",
       "      <td>0</td>\n",
       "      <td>0</td>\n",
       "      <td>0</td>\n",
       "      <td>0</td>\n",
       "      <td>0</td>\n",
       "      <td>0</td>\n",
       "      <td>0</td>\n",
       "      <td>0</td>\n",
       "      <td>0</td>\n",
       "      <td>0</td>\n",
       "    </tr>\n",
       "    <tr>\n",
       "      <th>4</th>\n",
       "      <td>0</td>\n",
       "      <td>170</td>\n",
       "      <td>test</td>\n",
       "      <td>test</td>\n",
       "      <td>1</td>\n",
       "      <td>0</td>\n",
       "      <td>0</td>\n",
       "      <td>0</td>\n",
       "      <td>1</td>\n",
       "      <td>0</td>\n",
       "      <td>...</td>\n",
       "      <td>0</td>\n",
       "      <td>0</td>\n",
       "      <td>0</td>\n",
       "      <td>0</td>\n",
       "      <td>0</td>\n",
       "      <td>0</td>\n",
       "      <td>0</td>\n",
       "      <td>0</td>\n",
       "      <td>0</td>\n",
       "      <td>0</td>\n",
       "    </tr>\n",
       "  </tbody>\n",
       "</table>\n",
       "<p>5 rows × 64 columns</p>\n",
       "</div>"
      ],
      "text/plain": [
       "   Holiday  Store_id Sales #Order  Store_Type_S1  Store_Type_S2  \\\n",
       "0        0       171  test   test              0              0   \n",
       "1        0       172  test   test              1              0   \n",
       "2        0       173  test   test              0              0   \n",
       "3        0       174  test   test              1              0   \n",
       "4        0       170  test   test              1              0   \n",
       "\n",
       "   Store_Type_S3  Store_Type_S4  Location_Type_L1  Location_Type_L2  ...  \\\n",
       "0              0              1                 0                 1  ...   \n",
       "1              0              0                 1                 0  ...   \n",
       "2              0              1                 0                 1  ...   \n",
       "3              0              0                 1                 0  ...   \n",
       "4              0              0                 1                 0  ...   \n",
       "\n",
       "   date_22  date_23  date_24  date_25  date_26  date_27  date_28  date_29  \\\n",
       "0        0        0        0        0        0        0        0        0   \n",
       "1        0        0        0        0        0        0        0        0   \n",
       "2        0        0        0        0        0        0        0        0   \n",
       "3        0        0        0        0        0        0        0        0   \n",
       "4        0        0        0        0        0        0        0        0   \n",
       "\n",
       "   date_30  date_31  \n",
       "0        0        0  \n",
       "1        0        0  \n",
       "2        0        0  \n",
       "3        0        0  \n",
       "4        0        0  \n",
       "\n",
       "[5 rows x 64 columns]"
      ]
     },
     "execution_count": 39,
     "metadata": {},
     "output_type": "execute_result"
    }
   ],
   "source": [
    "cleandf.head()"
   ]
  },
  {
   "cell_type": "code",
   "execution_count": 40,
   "id": "aea5c515",
   "metadata": {},
   "outputs": [],
   "source": [
    "#dropping store_id from cleandf\n",
    "cleandf=cleandf.drop('Store_id',axis=1)"
   ]
  },
  {
   "cell_type": "code",
   "execution_count": 41,
   "id": "3a4b216b",
   "metadata": {},
   "outputs": [],
   "source": [
    "#again dividing data into train and test\n",
    "traindf=cleandf[cleandf['Sales']!='test']\n",
    "testdf=cleandf[cleandf['Sales']=='test']"
   ]
  },
  {
   "cell_type": "code",
   "execution_count": 42,
   "id": "4b3ef5e9",
   "metadata": {},
   "outputs": [],
   "source": [
    "#dropping #order and sales from the test data\n",
    "testdf=testdf.drop(['Sales','#Order'],axis=1)"
   ]
  },
  {
   "cell_type": "code",
   "execution_count": 43,
   "id": "bbc00bb1",
   "metadata": {},
   "outputs": [],
   "source": [
    "#Linear Regression\n",
    "from sklearn.linear_model import LinearRegression"
   ]
  },
  {
   "cell_type": "code",
   "execution_count": 44,
   "id": "0c86a280",
   "metadata": {},
   "outputs": [],
   "source": [
    "lr=LinearRegression()"
   ]
  },
  {
   "cell_type": "code",
   "execution_count": 45,
   "id": "6203f251",
   "metadata": {},
   "outputs": [],
   "source": [
    "#independent and dependent variables for sales prediction\n",
    "y=traindf['Sales']\n",
    "X=traindf.drop(['Sales','#Order'],axis=1)"
   ]
  },
  {
   "cell_type": "code",
   "execution_count": 46,
   "id": "3c8e38af",
   "metadata": {},
   "outputs": [
    {
     "data": {
      "text/plain": [
       "0"
      ]
     },
     "execution_count": 46,
     "metadata": {},
     "output_type": "execute_result"
    }
   ],
   "source": [
    "y.isnull().sum()"
   ]
  },
  {
   "cell_type": "code",
   "execution_count": 47,
   "id": "60984c9a",
   "metadata": {},
   "outputs": [],
   "source": [
    "#model building for sales prediction\n",
    "lrmodel1=lr.fit(X,y)"
   ]
  },
  {
   "cell_type": "code",
   "execution_count": 48,
   "id": "2c107f99",
   "metadata": {},
   "outputs": [
    {
     "data": {
      "text/plain": [
       "0.57403705036538"
      ]
     },
     "execution_count": 48,
     "metadata": {},
     "output_type": "execute_result"
    }
   ],
   "source": [
    "lrmodel1.score(X,y) #R-Square"
   ]
  },
  {
   "cell_type": "code",
   "execution_count": 49,
   "id": "d191db71",
   "metadata": {},
   "outputs": [],
   "source": [
    "lrpredict1=lrmodel1.predict(testdf)"
   ]
  },
  {
   "cell_type": "code",
   "execution_count": 50,
   "id": "82786d89",
   "metadata": {},
   "outputs": [],
   "source": [
    "#converting data to csv file\n",
    "pd.DataFrame(lrpredict1).to_csv('lrtest.csv')"
   ]
  },
  {
   "cell_type": "code",
   "execution_count": 51,
   "id": "ae9afa5d",
   "metadata": {},
   "outputs": [],
   "source": [
    "lrpredict2=lrmodel1.predict(X)"
   ]
  },
  {
   "cell_type": "code",
   "execution_count": 52,
   "id": "4c161802",
   "metadata": {},
   "outputs": [],
   "source": [
    "from sklearn.model_selection import cross_val_score"
   ]
  },
  {
   "cell_type": "code",
   "execution_count": 53,
   "id": "9ecb6b8a",
   "metadata": {},
   "outputs": [
    {
     "data": {
      "text/plain": [
       "array([ 4.79587396e-01, -4.64141761e+22, -5.91269603e+24, -1.94021183e+25,\n",
       "        5.19138209e-01])"
      ]
     },
     "execution_count": 53,
     "metadata": {},
     "output_type": "execute_result"
    }
   ],
   "source": [
    "cross_val_score(lr,X,y)"
   ]
  },
  {
   "cell_type": "code",
   "execution_count": 54,
   "id": "3b8a41cb",
   "metadata": {},
   "outputs": [],
   "source": [
    "res=y-lrpredict2 #Residual"
   ]
  },
  {
   "cell_type": "code",
   "execution_count": 55,
   "id": "a6adc8c8",
   "metadata": {},
   "outputs": [
    {
     "data": {
      "text/plain": [
       "12045.8932008499"
      ]
     },
     "execution_count": 55,
     "metadata": {},
     "output_type": "execute_result"
    }
   ],
   "source": [
    "np.sqrt(np.mean(res**2)) #RMSE"
   ]
  },
  {
   "cell_type": "code",
   "execution_count": 56,
   "id": "8ed4c6b6",
   "metadata": {},
   "outputs": [],
   "source": [
    "from sklearn.tree import DecisionTreeRegressor"
   ]
  },
  {
   "cell_type": "code",
   "execution_count": 57,
   "id": "8fa713b1",
   "metadata": {},
   "outputs": [],
   "source": [
    "dt=DecisionTreeRegressor()"
   ]
  },
  {
   "cell_type": "code",
   "execution_count": 58,
   "id": "133d2f5b",
   "metadata": {},
   "outputs": [],
   "source": [
    "#model building for predicting sales\n",
    "dtmodel1=dt.fit(X,y)"
   ]
  },
  {
   "cell_type": "code",
   "execution_count": 59,
   "id": "64079a8c",
   "metadata": {},
   "outputs": [
    {
     "data": {
      "text/plain": [
       "0.7887463888883641"
      ]
     },
     "execution_count": 59,
     "metadata": {},
     "output_type": "execute_result"
    }
   ],
   "source": [
    "dtmodel1.score(X,y) #R-Square"
   ]
  },
  {
   "cell_type": "code",
   "execution_count": 60,
   "id": "fb64c6d0",
   "metadata": {},
   "outputs": [],
   "source": [
    "#prediction of test data\n",
    "dtpredict1=dtmodel1.predict(testdf)"
   ]
  },
  {
   "cell_type": "code",
   "execution_count": 61,
   "id": "130c86e7",
   "metadata": {},
   "outputs": [],
   "source": [
    "#converting data to csv file\n",
    "pd.DataFrame(dtpredict1).to_csv('dttest.csv')"
   ]
  },
  {
   "cell_type": "code",
   "execution_count": 62,
   "id": "e1d32f36",
   "metadata": {},
   "outputs": [],
   "source": [
    "dtpredict2=dtmodel1.predict(X)"
   ]
  },
  {
   "cell_type": "code",
   "execution_count": 63,
   "id": "f7cfa90b",
   "metadata": {},
   "outputs": [
    {
     "data": {
      "text/plain": [
       "array([0.4463035 , 0.29241325, 0.29388059, 0.45107597, 0.33733951])"
      ]
     },
     "execution_count": 63,
     "metadata": {},
     "output_type": "execute_result"
    }
   ],
   "source": [
    "cross_val_score(dt,X,y)"
   ]
  },
  {
   "cell_type": "code",
   "execution_count": 64,
   "id": "f4ec9786",
   "metadata": {},
   "outputs": [],
   "source": [
    "res=y-dtpredict2 #Residual"
   ]
  },
  {
   "cell_type": "code",
   "execution_count": 65,
   "id": "7f524f92",
   "metadata": {},
   "outputs": [
    {
     "data": {
      "text/plain": [
       "8483.111322883016"
      ]
     },
     "execution_count": 65,
     "metadata": {},
     "output_type": "execute_result"
    }
   ],
   "source": [
    "np.sqrt(np.mean(res**2)) #RMSE"
   ]
  },
  {
   "cell_type": "code",
   "execution_count": 66,
   "id": "e44b00df",
   "metadata": {},
   "outputs": [],
   "source": [
    "from sklearn.ensemble import RandomForestRegressor"
   ]
  },
  {
   "cell_type": "code",
   "execution_count": 67,
   "id": "7305955e",
   "metadata": {},
   "outputs": [],
   "source": [
    "rf=RandomForestRegressor(n_estimators=500)"
   ]
  },
  {
   "cell_type": "code",
   "execution_count": 68,
   "id": "3daeb3ca",
   "metadata": {},
   "outputs": [],
   "source": [
    "rfmodel1=rf.fit(X,y)"
   ]
  },
  {
   "cell_type": "code",
   "execution_count": 69,
   "id": "d4e73050",
   "metadata": {},
   "outputs": [
    {
     "data": {
      "text/plain": [
       "0.7867647948843612"
      ]
     },
     "execution_count": 69,
     "metadata": {},
     "output_type": "execute_result"
    }
   ],
   "source": [
    "rfmodel1.score(X,y) #R-Square"
   ]
  },
  {
   "cell_type": "code",
   "execution_count": 70,
   "id": "d735bcc8",
   "metadata": {},
   "outputs": [],
   "source": [
    "rfpredict1=rfmodel1.predict(testdf)"
   ]
  },
  {
   "cell_type": "code",
   "execution_count": 71,
   "id": "0f6c5310",
   "metadata": {},
   "outputs": [],
   "source": [
    "pd.DataFrame(rfpredict1).to_csv('rftest.csv')"
   ]
  },
  {
   "cell_type": "code",
   "execution_count": 72,
   "id": "ed3ea544",
   "metadata": {},
   "outputs": [],
   "source": [
    "rfpredict2=rfmodel1.predict(X)"
   ]
  },
  {
   "cell_type": "code",
   "execution_count": 73,
   "id": "429a143a",
   "metadata": {},
   "outputs": [],
   "source": [
    "res=y-rfpredict2 #Residual"
   ]
  },
  {
   "cell_type": "code",
   "execution_count": 74,
   "id": "d5bc97c2",
   "metadata": {},
   "outputs": [
    {
     "data": {
      "text/plain": [
       "8522.804954414109"
      ]
     },
     "execution_count": 74,
     "metadata": {},
     "output_type": "execute_result"
    }
   ],
   "source": [
    "np.sqrt(np.mean(res**2)) #RMSE"
   ]
  },
  {
   "cell_type": "code",
   "execution_count": 75,
   "id": "688341c3",
   "metadata": {},
   "outputs": [],
   "source": [
    "from sklearn.ensemble import GradientBoostingRegressor"
   ]
  },
  {
   "cell_type": "code",
   "execution_count": 76,
   "id": "df0720c1",
   "metadata": {},
   "outputs": [],
   "source": [
    "gb=GradientBoostingRegressor(n_estimators=500)"
   ]
  },
  {
   "cell_type": "code",
   "execution_count": 78,
   "id": "6160ba6c",
   "metadata": {},
   "outputs": [],
   "source": [
    "#model building for predicting sales\n",
    "gbmodel1=gb.fit(X,y)"
   ]
  },
  {
   "cell_type": "code",
   "execution_count": 79,
   "id": "1675c7c4",
   "metadata": {},
   "outputs": [
    {
     "data": {
      "text/plain": [
       "0.6924466578014459"
      ]
     },
     "execution_count": 79,
     "metadata": {},
     "output_type": "execute_result"
    }
   ],
   "source": [
    "gbmodel1.score(X,y) #R-Square"
   ]
  },
  {
   "cell_type": "code",
   "execution_count": 80,
   "id": "7c543580",
   "metadata": {},
   "outputs": [],
   "source": [
    "#prediction of test data\n",
    "gbpredict1=gbmodel1.predict(testdf)"
   ]
  },
  {
   "cell_type": "code",
   "execution_count": 81,
   "id": "34471260",
   "metadata": {},
   "outputs": [],
   "source": [
    "pd.DataFrame(gbpredict1).to_csv('gbtest.csv')"
   ]
  },
  {
   "cell_type": "code",
   "execution_count": 82,
   "id": "4b681158",
   "metadata": {},
   "outputs": [],
   "source": [
    "gbpredict2=gbmodel1.predict(X)"
   ]
  },
  {
   "cell_type": "code",
   "execution_count": 83,
   "id": "a71c1b80",
   "metadata": {},
   "outputs": [],
   "source": [
    "res=y-gbpredict2 #Residual"
   ]
  },
  {
   "cell_type": "code",
   "execution_count": 84,
   "id": "8a569888",
   "metadata": {},
   "outputs": [
    {
     "data": {
      "text/plain": [
       "10235.600361870509"
      ]
     },
     "execution_count": 84,
     "metadata": {},
     "output_type": "execute_result"
    }
   ],
   "source": [
    "np.sqrt(np.mean(res**2)) #RMSE"
   ]
  },
  {
   "cell_type": "code",
   "execution_count": 85,
   "id": "f2610d81",
   "metadata": {},
   "outputs": [],
   "source": [
    "#xgboost\n",
    "from xgboost import XGBRegressor"
   ]
  },
  {
   "cell_type": "code",
   "execution_count": 86,
   "id": "e906617f",
   "metadata": {},
   "outputs": [],
   "source": [
    "xgb=XGBRegressor(n_estimators=500,learning_rate=0.09)"
   ]
  },
  {
   "cell_type": "code",
   "execution_count": 87,
   "id": "922a967c",
   "metadata": {},
   "outputs": [],
   "source": [
    "#model building for predicting sales\n",
    "xgbmodel1=xgb.fit(X,y)"
   ]
  },
  {
   "cell_type": "code",
   "execution_count": 88,
   "id": "c17df11e",
   "metadata": {},
   "outputs": [
    {
     "data": {
      "text/plain": [
       "0.7550845785958062"
      ]
     },
     "execution_count": 88,
     "metadata": {},
     "output_type": "execute_result"
    }
   ],
   "source": [
    "xgbmodel1.score(X,y) #R-Square"
   ]
  },
  {
   "cell_type": "code",
   "execution_count": 89,
   "id": "35c456a0",
   "metadata": {},
   "outputs": [],
   "source": [
    "#prediction of test data\n",
    "xgbpredict1=xgbmodel1.predict(testdf)"
   ]
  },
  {
   "cell_type": "code",
   "execution_count": 90,
   "id": "1b21e884",
   "metadata": {},
   "outputs": [],
   "source": [
    "#converting data to csv file\n",
    "pd.DataFrame(xgbpredict1).to_csv('xgbtest.csv')"
   ]
  },
  {
   "cell_type": "code",
   "execution_count": 91,
   "id": "cfa47222",
   "metadata": {},
   "outputs": [],
   "source": [
    "xgbpredict2=xgbmodel1.predict(X)"
   ]
  },
  {
   "cell_type": "code",
   "execution_count": 92,
   "id": "5b767cf9",
   "metadata": {},
   "outputs": [],
   "source": [
    "res=y-xgbpredict2 #Residual"
   ]
  },
  {
   "cell_type": "code",
   "execution_count": 93,
   "id": "b248b724",
   "metadata": {},
   "outputs": [
    {
     "data": {
      "text/plain": [
       "9134.003243206429"
      ]
     },
     "execution_count": 93,
     "metadata": {},
     "output_type": "execute_result"
    }
   ],
   "source": [
    "np.sqrt(np.mean(res**2)) #RMSE"
   ]
  },
  {
   "cell_type": "code",
   "execution_count": null,
   "id": "3a8a6bdb",
   "metadata": {},
   "outputs": [],
   "source": []
  }
 ],
 "metadata": {
  "kernelspec": {
   "display_name": "Python 3",
   "language": "python",
   "name": "python3"
  },
  "language_info": {
   "codemirror_mode": {
    "name": "ipython",
    "version": 3
   },
   "file_extension": ".py",
   "mimetype": "text/x-python",
   "name": "python",
   "nbconvert_exporter": "python",
   "pygments_lexer": "ipython3",
   "version": "3.8.8"
  }
 },
 "nbformat": 4,
 "nbformat_minor": 5
}
